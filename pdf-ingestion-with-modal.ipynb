{
 "cells": [
  {
   "cell_type": "code",
   "execution_count": null,
   "metadata": {},
   "outputs": [],
   "source": [
    "import json\n",
    "\n",
    "with open(\"data/llm-papers.json\") as f:\n",
    "    pdf_infos = json.load(f)\n",
    "\n",
    "pdf_urls = [pdf[\"url\"] for pdf in pdf_infos]"
   ]
  },
  {
   "cell_type": "code",
   "execution_count": null,
   "metadata": {},
   "outputs": [],
   "source": [
    "from langchain.document_loaders import PyPDFLoader\n",
    "\n",
    "\n",
    "def load_and_split_pdf_url(pdf_url):\n",
    "    loader = PyPDFLoader(pdf_url)\n",
    "    doc = loader.load_and_split()\n",
    "    return doc\n",
    "\n",
    "\n",
    "docs = []\n",
    "\n",
    "for i in range(50):\n",
    "    loader = PyPDFLoader(pdf_urls[i])\n",
    "    doc = loader.load_and_split()\n",
    "    docs.append(doc)\n",
    "\n",
    "\n",
    "# sample = load_and_split_pdf_url(pdf_urls[0])"
   ]
  },
  {
   "cell_type": "code",
   "execution_count": null,
   "metadata": {},
   "outputs": [],
   "source": [
    "docs = sum(docs, [])"
   ]
  },
  {
   "cell_type": "code",
   "execution_count": null,
   "metadata": {},
   "outputs": [],
   "source": [
    "from langchain.text_splitter import RecursiveCharacterTextSplitter\n",
    "\n",
    "text_splitter = RecursiveCharacterTextSplitter(chunk_size=700)\n",
    "\n",
    "sample_split = text_splitter.split_documents(docs)"
   ]
  },
  {
   "cell_type": "code",
   "execution_count": null,
   "metadata": {},
   "outputs": [],
   "source": [
    "from sentence_transformers import SentenceTransformer\n",
    "\n",
    "model = SentenceTransformer(\"all-MiniLM-L6-v2\")\n",
    "\n",
    "embeddingslist = []\n",
    "\n",
    "\n",
    "def embed_single_document(doc: str) -> list:\n",
    "    text = doc.page_content\n",
    "    embeddings = model.encode(text)\n",
    "\n",
    "    return embeddings\n",
    "\n",
    "\n",
    "for i in range(5):\n",
    "    embeddingslist.append(embed_single_document(docs[i]))\n",
    "\n",
    "embeddingslist"
   ]
  },
  {
   "cell_type": "code",
   "execution_count": null,
   "metadata": {},
   "outputs": [],
   "source": [
    "upsert = []\n",
    "\n",
    "for text, embedding in zip(docs[0:5], embeddingslist):\n",
    "    upsert.append((text, embedding))\n",
    "    break"
   ]
  },
  {
   "cell_type": "code",
   "execution_count": null,
   "metadata": {},
   "outputs": [],
   "source": [
    "upsert[0]"
   ]
  },
  {
   "cell_type": "code",
   "execution_count": null,
   "metadata": {},
   "outputs": [],
   "source": [
    "def create_vectorstore_of_text(docs):\n",
    "    from langchain.embeddings import FakeEmbeddings\n",
    "    from langchain.vectorstores.faiss import FAISS\n",
    "    from langchain.text_splitter import RecursiveCharacterTextSplitter\n",
    "\n",
    "    text_splitter = RecursiveCharacterTextSplitter()\n",
    "\n",
    "    docs = text_splitter.split_documents(docs)\n",
    "\n",
    "    # FAISS.from_documents(List[Document], List[List[float]])\n",
    "    faiss_index = FAISS.from_documents(docs, embedding=FakeEmbeddings(size=200))\n",
    "\n",
    "    faiss_index.save_local(\"vectorstore/llm-papers-faiss\")\n",
    "\n",
    "    return faiss_index\n",
    "\n",
    "\n",
    "create_vectorstore_of_text(docs=sample_split)"
   ]
  },
  {
   "cell_type": "code",
   "execution_count": null,
   "metadata": {},
   "outputs": [],
   "source": []
  }
 ],
 "metadata": {
  "kernelspec": {
   "display_name": ".venv",
   "language": "python",
   "name": "python3"
  },
  "language_info": {
   "codemirror_mode": {
    "name": "ipython",
    "version": 3
   },
   "file_extension": ".py",
   "mimetype": "text/x-python",
   "name": "python",
   "nbconvert_exporter": "python",
   "pygments_lexer": "ipython3",
   "version": "3.10.6"
  },
  "orig_nbformat": 4
 },
 "nbformat": 4,
 "nbformat_minor": 2
}
